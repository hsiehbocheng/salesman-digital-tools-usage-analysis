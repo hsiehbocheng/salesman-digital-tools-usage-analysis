{
 "cells": [
  {
   "cell_type": "code",
   "execution_count": 23,
   "metadata": {},
   "outputs": [],
   "source": [
    "import numpy as np\n",
    "import pandas as pd\n",
    "import os\n",
    "from pandas_profiling import ProfileReport \n",
    "from sklearn.metrics import classification_report, confusion_matrix\n",
    "from sklearn.model_selection import train_test_split\n",
    "\n",
    "# EDA\n",
    "import pandas as pd\n",
    "import numpy as np\n",
    "import matplotlib.pyplot as plt\n",
    "import seaborn as sns\n",
    "from pandas_profiling import ProfileReport\n",
    "import os\n",
    "import re\n",
    "import pickle\n",
    "from sklearn.preprocessing import LabelEncoder\n",
    "from sklearn import cluster\n",
    "from sklearn.ensemble import RandomForestClassifier\n"
   ]
  },
  {
   "attachments": {},
   "cell_type": "markdown",
   "metadata": {},
   "source": [
    "#### **依照TITLE 分群**"
   ]
  },
  {
   "attachments": {},
   "cell_type": "markdown",
   "metadata": {},
   "source": [
    "load data"
   ]
  },
  {
   "cell_type": "code",
   "execution_count": 4,
   "metadata": {},
   "outputs": [],
   "source": [
    "data_sales = pd.read_csv(\"sales_data.csv\")\n",
    "login = pd.read_csv(\"sales_login.csv\")\n",
    "connect = pd.read_csv(\"sales_connect.csv\")\n",
    "appointment = pd.read_csv(\"sales_appointment.csv\")\n",
    "memo = pd.read_csv(\"sales_memo.csv\")\n",
    "questionnaire = pd.read_csv(\"questionnaire.csv\")\n",
    "cnt = pd.read_csv(\"cnt.csv\")\n",
    "fyc_lifeinsurance = pd.read_csv(\"FYC_lifeinsurance.csv\")\n",
    "fyc_propertyinsurance = pd.read_csv(\"FYC_propertyinsurance.csv\")\n",
    "\n",
    "dataname_list = [data_sales, memo, login, connect, appointment, questionnaire, cnt, fyc_lifeinsurance, fyc_propertyinsurance]\n",
    "for data in dataname_list:\n",
    "    data['AGENT_ID'] = data['AGENT_ID'].astype('str')\n"
   ]
  },
  {
   "attachments": {},
   "cell_type": "markdown",
   "metadata": {},
   "source": [
    "function"
   ]
  },
  {
   "cell_type": "code",
   "execution_count": 5,
   "metadata": {},
   "outputs": [],
   "source": [
    "## 業務員資料 start、end取年份\n",
    "def takeyear(date):\n",
    "    year = str(date)[:4]\n",
    "    return year\n",
    "    \n",
    "   ## 定聯絡次數\n",
    "def avg(cnt, num):\n",
    "    if num != 0:\n",
    "        avr = round(cnt / num, ndigits = 0)\n",
    "    else:\n",
    "        avr = 0   \n",
    "    return avr\n",
    "\n",
    "## 職位ordinal編碼\n",
    "map_agent_title = {#基層\n",
    "                   'CA':0,'AG':0, 'NCT':0,\n",
    "                   #行銷主管\n",
    "                   'CSS':1, 'CMS':1, 'CMD':1, 'CMM':1, 'CMP':1, #服務展業部體系\n",
    "                   'CS':1, 'CSM':1, 'CDM':1, 'CUM':1, #服務展業部體系\n",
    "                   'MS':1, 'MAM':1, 'MM':1, 'SMM':1,\n",
    "                   #業務主管\n",
    "                   'SP':2, 'AM':2, 'UM':2,\n",
    "                   #通訊處主管\n",
    "                   'CUM':3, 'CM':3, 'SCM':3, 'CCM':3, 'CP':3, 'CSP':3, 'CCP':3, \n",
    "                   'DM':3, 'VRM':3, 'ARM':3, 'SRM':3, 'AVP':3, 'SVP':3\n",
    "                  }"
   ]
  },
  {
   "attachments": {},
   "cell_type": "markdown",
   "metadata": {},
   "source": [
    "memo 資料處理"
   ]
  },
  {
   "cell_type": "code",
   "execution_count": 6,
   "metadata": {},
   "outputs": [],
   "source": [
    "## MEMO 資料處理\n",
    "def average(memo, cnt):\n",
    "    if cnt != 0:\n",
    "        avr = round(memo / cnt, ndigits = 0)\n",
    "    else:\n",
    "        avr = 0   \n",
    "    return avr\n",
    "memo = memo.fillna(0)\n",
    "memo['MEMO_AVERAGE'] = memo.apply(lambda x: average(x['MEMO_LENGTH'], x['CUSTOMER_CNT']), axis = 1)\n",
    "memo['MEMO_AVERAGE'] = memo['MEMO_AVERAGE'].astype(int)\n",
    "\n",
    "#memo.info()"
   ]
  },
  {
   "attachments": {},
   "cell_type": "markdown",
   "metadata": {},
   "source": [
    "將基本資料有缺失的資料刪除"
   ]
  },
  {
   "cell_type": "code",
   "execution_count": 7,
   "metadata": {},
   "outputs": [],
   "source": [
    "data_sales = data_sales.drop('BIR_DATE', axis = 1)\n",
    "data_sales = data_sales.dropna()\n",
    "data_sales['UNIT_POST_CODE'] = data_sales['UNIT_POST_CODE'].astype(int)\n",
    "data_sales['LOCATION_ID'] = data_sales['LOCATION_ID'].astype(int)"
   ]
  },
  {
   "attachments": {},
   "cell_type": "markdown",
   "metadata": {},
   "source": [
    "職位ordinal編碼"
   ]
  },
  {
   "cell_type": "code",
   "execution_count": 8,
   "metadata": {},
   "outputs": [],
   "source": [
    "data_sales['END_DATE'] = data_sales.apply(lambda x: takeyear(x['END_DATE']), axis = 1)\n",
    "data_sales['START_DATE'] = data_sales.apply(lambda x: takeyear(x['START_DATE']), axis = 1)\n",
    "data_sales['END_DATE'] = data_sales['END_DATE'].astype(int)\n",
    "data_sales['START_DATE'] = data_sales['START_DATE'].astype(int)\n",
    "data_sales['TITLE'] = data_sales['AGENT_TITLE'].replace(map_agent_title)"
   ]
  },
  {
   "attachments": {},
   "cell_type": "markdown",
   "metadata": {},
   "source": [
    "Login Cnt"
   ]
  },
  {
   "cell_type": "code",
   "execution_count": 9,
   "metadata": {},
   "outputs": [],
   "source": [
    "login_cnt = pd.DataFrame(login.groupby('AGENT_ID').sum())\n",
    "login_cnt = login_cnt.reset_index()\n",
    "login_cnt = login_cnt.drop('YYYYMM', axis = 1)"
   ]
  },
  {
   "attachments": {},
   "cell_type": "markdown",
   "metadata": {},
   "source": [
    "定聯處理"
   ]
  },
  {
   "cell_type": "code",
   "execution_count": 10,
   "metadata": {},
   "outputs": [],
   "source": [
    "connect = connect.fillna(0)\n",
    "connect['CONTACT_CNT_AVG'] = connect.apply(lambda x: avg(x['CONTACT_CNT'], x['CONTACT_CUST_CNT']), axis = 1)\n",
    "connect['CONTACT_CNT_AVG'] = connect['CONTACT_CNT_AVG'].astype(int)\n",
    "connect_cnt = pd.DataFrame(connect.groupby('AGENT_ID')[['CONTACT_CNT_AVG', 'CONTACT_CNT', 'CONTACT_CUST_CNT']].sum())\n",
    "connect_cnt = connect_cnt.reset_index()"
   ]
  },
  {
   "cell_type": "code",
   "execution_count": 11,
   "metadata": {},
   "outputs": [],
   "source": [
    "## 約訪次數\n",
    "appointment = appointment.fillna(0)\n",
    "\n",
    "appointment['CUSTOMER_VISIT_AVG'] = appointment.apply(lambda x: avg(x['VISIT_CNT'], x['CUSTOMER_VISIT_CNT']), axis = 1)\n",
    "appointment['CUSTOMER_VISIT_AVG'] = appointment['CUSTOMER_VISIT_AVG'].astype(int)\n",
    "appointment_cnt = pd.DataFrame(appointment.groupby('AGENT_ID')[['CUSTOMER_VISIT_AVG', 'VISIT_CNT', 'CUSTOMER_VISIT_CNT']].sum())\n",
    "appointment_cnt = appointment_cnt.reset_index()\n",
    "\n",
    "## 問卷資料\n",
    "questionnaire = questionnaire.fillna(0)\n",
    "\n",
    "questionnaire['QNR_AVG'] = questionnaire.apply(lambda x: avg(x['QNR_CNT'], x['CUSTOMER_CNT']), axis = 1)\n",
    "questionnaire['QNR_AVG'] = questionnaire['QNR_AVG'].astype(int)\n",
    "questionnaire_cnt = pd.DataFrame(questionnaire.groupby('AGENT_ID')[['QNR_AVG', 'QNR_CNT', 'CUSTOMER_CNT']].sum())\n",
    "questionnaire_cnt = questionnaire_cnt.reset_index()\n",
    "\n",
    "## 保單健檢\n",
    "cnt = cnt.fillna(0)\n",
    "\n",
    "cnt['CNT_AVG'] = cnt.apply(lambda x: avg(x['CONSULT_CNT'], x['CONSULT_CUST_CNT']), axis = 1)\n",
    "cnt['CNT_AVG'] = cnt['CNT_AVG'].astype(int)\n",
    "consult_cnt = pd.DataFrame(cnt.groupby('AGENT_ID')[['CNT_AVG', 'CONSULT_CUST_CNT']].sum())\n",
    "consult_cnt = consult_cnt.reset_index()"
   ]
  },
  {
   "cell_type": "code",
   "execution_count": 12,
   "metadata": {},
   "outputs": [],
   "source": [
    "sum_CONSULT_CNT = pd.DataFrame(cnt.groupby('AGENT_ID')['CONSULT_CNT'].sum())\n",
    "sum_CONSULT_CNT = sum_CONSULT_CNT.reset_index()"
   ]
  },
  {
   "cell_type": "code",
   "execution_count": 13,
   "metadata": {},
   "outputs": [],
   "source": [
    "nn = pd.merge(sum_CONSULT_CNT, memo, on = 'AGENT_ID', how = 'inner')\n",
    "nn['CONSULT_RATIO'] = nn['CONSULT_CNT'] / nn['CUSTOMER_CNT']\n",
    "nn['CONSULT_RATIO'] = nn['CONSULT_RATIO'].fillna(0) \n",
    "\n",
    "nn.drop(columns = ['CONSULT_CNT', 'CUSTOMER_CNT', 'MEMO_LENGTH', 'MEMO_AVERAGE'], inplace = True )"
   ]
  },
  {
   "cell_type": "code",
   "execution_count": 14,
   "metadata": {},
   "outputs": [],
   "source": [
    "perf = pd.merge(fyc_lifeinsurance, fyc_propertyinsurance, on=['AGENT_ID', 'YYYYMM'], how='outer')\n",
    "\n",
    "performance = ['PREMIUM', \n",
    "               'PIECES', \n",
    "               'FYC', \n",
    "               'PROPERTY_INSURANCE_PERMIUM', \n",
    "               'PROPERTY_INSURANCE_FYC', \n",
    "               'PROPERTY_INSURANCE_PIECES']\n",
    "perf[performance] = perf[performance].fillna(0)\n",
    "perf['MIXED_PREMIUM'] = perf['PREMIUM'] + perf['PROPERTY_INSURANCE_PERMIUM']\n",
    "performance = ['PREMIUM', \n",
    "               'PIECES', \n",
    "               'FYC', \n",
    "               'PROPERTY_INSURANCE_PERMIUM', \n",
    "               'PROPERTY_INSURANCE_FYC', \n",
    "               'PROPERTY_INSURANCE_PIECES','MIXED_PREMIUM']\n",
    "\n",
    "perf_y = pd.DataFrame(perf.groupby('AGENT_ID')[performance].sum())\n",
    "perf_y = perf_y.reset_index()"
   ]
  },
  {
   "cell_type": "code",
   "execution_count": 15,
   "metadata": {},
   "outputs": [],
   "source": [
    "## 目前整理好（不考慮時間性）的資料集有memo,login_cnt,connect_cnt,appointment_cnt,questionnaire_cnt,consult_cnt,perf_y\n",
    "## 整合成rawdata\n",
    "datalist = [memo, login_cnt, connect_cnt, appointment_cnt, questionnaire_cnt, consult_cnt, nn, perf_y]\n",
    "memo.drop(columns='CUSTOMER_CNT', inplace=True)\n",
    "rawdata = pd.merge(memo, login_cnt, on='AGENT_ID', how='outer')\n",
    "for data in datalist[2:7]:\n",
    "    rawdata = pd.merge(rawdata, data, on = 'AGENT_ID', how='outer')\n",
    "\n",
    "rawdata = pd.merge(rawdata, perf_y, on='AGENT_ID', how='inner')\n",
    "#rawdata.info()\n",
    "## 不合併個人資料，有39719筆資料"
   ]
  },
  {
   "cell_type": "code",
   "execution_count": 16,
   "metadata": {},
   "outputs": [],
   "source": [
    "data_sales = data_sales.dropna()\n",
    "len(data_sales)\n",
    "data = pd.merge(data_sales, rawdata, on='AGENT_ID', how=\"inner\")\n",
    "data = data.fillna(0)\n",
    "\n",
    "## 將郵遞區號、CUSTOMER_CNT、MEMO_LENGTH資料刪除\n",
    "data = data.drop(columns = 'UNIT_POST_CODE')\n",
    "#data.info()"
   ]
  },
  {
   "cell_type": "code",
   "execution_count": 17,
   "metadata": {},
   "outputs": [
    {
     "name": "stdout",
     "output_type": "stream",
     "text": [
      "業務員中有 20 位沒有fyl記錄\n"
     ]
    }
   ],
   "source": [
    "## 找出沒有fyl記錄的業務員\n",
    "\n",
    "fyl_columns = ['MEMO_AVERAGE', 'LOGIN_CNT', 'CONTACT_CNT_AVG',\n",
    "               'CUSTOMER_VISIT_AVG', 'QNR_AVG', 'CNT_AVG']\n",
    "tem = data.groupby('AGENT_ID').sum()[fyl_columns]\n",
    "no_usage_AGENTID = list(tem[tem.sum(axis = 1) == 0].index)\n",
    "del tem\n",
    "\n",
    "print('業務員中有', len(no_usage_AGENTID), '位沒有fyl記錄')"
   ]
  },
  {
   "cell_type": "code",
   "execution_count": 18,
   "metadata": {},
   "outputs": [
    {
     "name": "stdout",
     "output_type": "stream",
     "text": [
      "業務員中有 1 位沒有業務記錄\n"
     ]
    }
   ],
   "source": [
    "## 找出沒有業務記錄的業務員\n",
    "performance_columns = ['PREMIUM', 'PIECES', 'FYC',\n",
    "                       'PROPERTY_INSURANCE_PERMIUM', 'PROPERTY_INSURANCE_FYC', 'PROPERTY_INSURANCE_PIECES']\n",
    "\n",
    "\n",
    "tem2 = data.groupby('AGENT_ID').sum()[performance_columns]\n",
    "no_performance_AGENTID = list(tem2[tem2.sum(axis = 1) == 0].index)\n",
    "\n",
    "del tem2\n",
    "print('業務員中有', len(no_performance_AGENTID), '位沒有業務記錄')"
   ]
  },
  {
   "cell_type": "code",
   "execution_count": 19,
   "metadata": {},
   "outputs": [],
   "source": [
    "#data1 = data[~data.AGENT_ID.isin(no_usage_AGENTID)] ## 將無使用紀錄的業務員資料刪除\n",
    "##### 後來覺得可以把這些人當成有績效但沒在使用數位工具，所以有留下來，只刪掉績效都是0的人\n",
    "data2 = data[~data.AGENT_ID.isin(no_performance_AGENTID)]\n",
    "data2 = data2.reset_index()\n",
    "data2 = data2.drop('index', axis =1)\n",
    "#data2.info() ## 使用有績效表現，且有fyl記錄的業務員資料"
   ]
  },
  {
   "cell_type": "code",
   "execution_count": 20,
   "metadata": {},
   "outputs": [],
   "source": [
    "data2.set_index('AGENT_ID', inplace = True)"
   ]
  },
  {
   "cell_type": "code",
   "execution_count": 21,
   "metadata": {},
   "outputs": [],
   "source": [
    "df = data2.drop(columns = ['AGENT_TITLE', 'PREMIUM', 'FYC', 'PIECES', 'PROPERTY_INSURANCE_PERMIUM', 'PROPERTY_INSURANCE_FYC'\n",
    "                          ,'PROPERTY_INSURANCE_PIECES'])"
   ]
  },
  {
   "cell_type": "code",
   "execution_count": 51,
   "metadata": {},
   "outputs": [],
   "source": [
    "df1 = df[df['TITLE'] == 0] #基層\n",
    "df2 = df[df['TITLE'] == 1] #行銷主管\n",
    "df3 = df[df['TITLE'] == 2] #業務主管\n",
    "df4 = df[df['TITLE'] == 3] #通訊處主管"
   ]
  },
  {
   "attachments": {},
   "cell_type": "markdown",
   "metadata": {},
   "source": [
    "定義高績效業務員"
   ]
  },
  {
   "cell_type": "code",
   "execution_count": 52,
   "metadata": {},
   "outputs": [
    {
     "name": "stderr",
     "output_type": "stream",
     "text": [
      "/var/folders/93/jy5s5h4d6wb954g_5_jtd1m40000gn/T/ipykernel_846/3972786009.py:3: SettingWithCopyWarning: \n",
      "A value is trying to be set on a copy of a slice from a DataFrame.\n",
      "Try using .loc[row_indexer,col_indexer] = value instead\n",
      "\n",
      "See the caveats in the documentation: https://pandas.pydata.org/pandas-docs/stable/user_guide/indexing.html#returning-a-view-versus-a-copy\n",
      "  df1['top_PERFORMANCE'] = np.select(condition, choice, default = 'other')\n",
      "/var/folders/93/jy5s5h4d6wb954g_5_jtd1m40000gn/T/ipykernel_846/3972786009.py:6: SettingWithCopyWarning: \n",
      "A value is trying to be set on a copy of a slice from a DataFrame.\n",
      "Try using .loc[row_indexer,col_indexer] = value instead\n",
      "\n",
      "See the caveats in the documentation: https://pandas.pydata.org/pandas-docs/stable/user_guide/indexing.html#returning-a-view-versus-a-copy\n",
      "  df2['top_PERFORMANCE'] = np.select(condition, choice, default = 'other')\n",
      "/var/folders/93/jy5s5h4d6wb954g_5_jtd1m40000gn/T/ipykernel_846/3972786009.py:9: SettingWithCopyWarning: \n",
      "A value is trying to be set on a copy of a slice from a DataFrame.\n",
      "Try using .loc[row_indexer,col_indexer] = value instead\n",
      "\n",
      "See the caveats in the documentation: https://pandas.pydata.org/pandas-docs/stable/user_guide/indexing.html#returning-a-view-versus-a-copy\n",
      "  df3['top_PERFORMANCE'] = np.select(condition, choice, default = 'other')\n",
      "/var/folders/93/jy5s5h4d6wb954g_5_jtd1m40000gn/T/ipykernel_846/3972786009.py:12: SettingWithCopyWarning: \n",
      "A value is trying to be set on a copy of a slice from a DataFrame.\n",
      "Try using .loc[row_indexer,col_indexer] = value instead\n",
      "\n",
      "See the caveats in the documentation: https://pandas.pydata.org/pandas-docs/stable/user_guide/indexing.html#returning-a-view-versus-a-copy\n",
      "  df4['top_PERFORMANCE'] = np.select(condition, choice, default = 'other')\n"
     ]
    }
   ],
   "source": [
    "choice = ['top25%']\n",
    "condition = [df1.MIXED_PREMIUM >= np.nanpercentile(df1.MIXED_PREMIUM, 75)]\n",
    "df1['top_PERFORMANCE'] = np.select(condition, choice, default = 'other')\n",
    "\n",
    "condition = [df2.MIXED_PREMIUM >= np.nanpercentile(df2.MIXED_PREMIUM, 75)]\n",
    "df2['top_PERFORMANCE'] = np.select(condition, choice, default = 'other')\n",
    "\n",
    "condition = [df3.MIXED_PREMIUM >= np.nanpercentile(df3.MIXED_PREMIUM, 75)]\n",
    "df3['top_PERFORMANCE'] = np.select(condition, choice, default = 'other')\n",
    "\n",
    "condition = [df4.MIXED_PREMIUM >= np.nanpercentile(df4.MIXED_PREMIUM, 75)]\n",
    "df4['top_PERFORMANCE'] = np.select(condition, choice, default = 'other')"
   ]
  },
  {
   "cell_type": "code",
   "execution_count": 55,
   "metadata": {},
   "outputs": [],
   "source": [
    "os.mkdir('data')\n",
    "df1.to_excel('data/df1.xlsx')\n",
    "df2.to_excel('data/df2.xlsx')\n",
    "df3.to_excel('data/df3.xlsx')\n",
    "df4.to_excel('data/df4.xlsx')"
   ]
  },
  {
   "attachments": {},
   "cell_type": "markdown",
   "metadata": {},
   "source": [
    "### **K-means 分群**"
   ]
  },
  {
   "cell_type": "code",
   "execution_count": 22,
   "metadata": {},
   "outputs": [],
   "source": [
    "cluster_col = ['TITLE','AGENT_AGE','ON_BOARD_AGE','SENIORITY','START_DATE','AGENT_SEX']\n",
    "data_for_cluster = df[cluster_col]\n",
    "data_for_cluster = pd.get_dummies(data_for_cluster, columns = ['AGENT_SEX','TITLE'])"
   ]
  },
  {
   "cell_type": "code",
   "execution_count": 24,
   "metadata": {},
   "outputs": [
    {
     "data": {
      "image/png": "[encoded data removed]",
      "text/plain": [
       "<Figure size 1600x800 with 1 Axes>"
      ]
     },
     "metadata": {},
     "output_type": "display_data"
    }
   ],
   "source": [
    "##elbow plot\n",
    "distortions = []\n",
    "K = range(1,10)\n",
    "for k in K:\n",
    "    kmeanModel = cluster.KMeans(n_clusters=k)\n",
    "    kmeanModel.fit(data_for_cluster)\n",
    "    distortions.append(kmeanModel.inertia_)\n",
    "plt.figure(figsize=(16,8))\n",
    "plt.plot(K, distortions, 'bx-')\n",
    "plt.xlabel('k')\n",
    "plt.ylabel('Distortion')\n",
    "plt.title('The Elbow Method showing the optimal k')\n",
    "plt.show()"
   ]
  },
  {
   "attachments": {},
   "cell_type": "markdown",
   "metadata": {},
   "source": [
    "決定分3群"
   ]
  },
  {
   "cell_type": "code",
   "execution_count": 25,
   "metadata": {},
   "outputs": [],
   "source": [
    "####分3群\n",
    "kmeans_fit = cluster.KMeans(n_clusters = 3).fit(data_for_cluster)\n",
    "cluster_labels_3 = kmeans_fit.labels_\n",
    "df['cluster_3'] = cluster_labels_3"
   ]
  },
  {
   "cell_type": "code",
   "execution_count": 26,
   "metadata": {},
   "outputs": [
    {
     "data": {
      "text/plain": [
       "cluster_3\n",
       "0    3613\n",
       "1    9873\n",
       "2    4939\n",
       "dtype: int64"
      ]
     },
     "execution_count": 26,
     "metadata": {},
     "output_type": "execute_result"
    }
   ],
   "source": [
    "df.groupby('cluster_3').size()"
   ]
  },
  {
   "cell_type": "code",
   "execution_count": 27,
   "metadata": {},
   "outputs": [],
   "source": [
    "c_df1 = df[df['cluster_3'] == 0] \n",
    "c_df2 = df[df['cluster_3'] == 1] \n",
    "c_df3 = df[df['cluster_3'] == 2] "
   ]
  },
  {
   "attachments": {},
   "cell_type": "markdown",
   "metadata": {},
   "source": [
    "定義高績效業務員"
   ]
  },
  {
   "cell_type": "code",
   "execution_count": 28,
   "metadata": {},
   "outputs": [
    {
     "name": "stderr",
     "output_type": "stream",
     "text": [
      "/var/folders/93/jy5s5h4d6wb954g_5_jtd1m40000gn/T/ipykernel_1104/1388406250.py:3: SettingWithCopyWarning: \n",
      "A value is trying to be set on a copy of a slice from a DataFrame.\n",
      "Try using .loc[row_indexer,col_indexer] = value instead\n",
      "\n",
      "See the caveats in the documentation: https://pandas.pydata.org/pandas-docs/stable/user_guide/indexing.html#returning-a-view-versus-a-copy\n",
      "  c_df1['top_PERFORMANCE'] = np.select(condition, choice, default = 'other')\n",
      "/var/folders/93/jy5s5h4d6wb954g_5_jtd1m40000gn/T/ipykernel_1104/1388406250.py:5: SettingWithCopyWarning: \n",
      "A value is trying to be set on a copy of a slice from a DataFrame.\n",
      "Try using .loc[row_indexer,col_indexer] = value instead\n",
      "\n",
      "See the caveats in the documentation: https://pandas.pydata.org/pandas-docs/stable/user_guide/indexing.html#returning-a-view-versus-a-copy\n",
      "  c_df2['top_PERFORMANCE'] = np.select(condition, choice, default = 'other')\n",
      "/var/folders/93/jy5s5h4d6wb954g_5_jtd1m40000gn/T/ipykernel_1104/1388406250.py:7: SettingWithCopyWarning: \n",
      "A value is trying to be set on a copy of a slice from a DataFrame.\n",
      "Try using .loc[row_indexer,col_indexer] = value instead\n",
      "\n",
      "See the caveats in the documentation: https://pandas.pydata.org/pandas-docs/stable/user_guide/indexing.html#returning-a-view-versus-a-copy\n",
      "  c_df3['top_PERFORMANCE'] = np.select(condition, choice, default = 'other')\n"
     ]
    }
   ],
   "source": [
    "choice = ['top25%']\n",
    "condition = [c_df1.MIXED_PREMIUM >= np.nanpercentile(c_df1.MIXED_PREMIUM, 75)]\n",
    "c_df1['top_PERFORMANCE'] = np.select(condition, choice, default = 'other')\n",
    "condition = [c_df2.MIXED_PREMIUM >= np.nanpercentile(c_df2.MIXED_PREMIUM, 75)]\n",
    "c_df2['top_PERFORMANCE'] = np.select(condition, choice, default = 'other')\n",
    "condition = [c_df3.MIXED_PREMIUM >= np.nanpercentile(c_df3.MIXED_PREMIUM, 75)]\n",
    "c_df3['top_PERFORMANCE'] = np.select(condition, choice, default = 'other')"
   ]
  },
  {
   "cell_type": "code",
   "execution_count": 30,
   "metadata": {},
   "outputs": [
    {
     "name": "stderr",
     "output_type": "stream",
     "text": [
      "/var/folders/93/jy5s5h4d6wb954g_5_jtd1m40000gn/T/ipykernel_1104/1129587255.py:3: SettingWithCopyWarning: \n",
      "A value is trying to be set on a copy of a slice from a DataFrame.\n",
      "Try using .loc[row_indexer,col_indexer] = value instead\n",
      "\n",
      "See the caveats in the documentation: https://pandas.pydata.org/pandas-docs/stable/user_guide/indexing.html#returning-a-view-versus-a-copy\n",
      "  c_df1['top_PERFORMANCE'] = l.fit_transform(c_df1['top_PERFORMANCE'])\n",
      "/var/folders/93/jy5s5h4d6wb954g_5_jtd1m40000gn/T/ipykernel_1104/1129587255.py:4: SettingWithCopyWarning: \n",
      "A value is trying to be set on a copy of a slice from a DataFrame.\n",
      "Try using .loc[row_indexer,col_indexer] = value instead\n",
      "\n",
      "See the caveats in the documentation: https://pandas.pydata.org/pandas-docs/stable/user_guide/indexing.html#returning-a-view-versus-a-copy\n",
      "  c_df2['top_PERFORMANCE'] = l.fit_transform(c_df2['top_PERFORMANCE'])\n",
      "/var/folders/93/jy5s5h4d6wb954g_5_jtd1m40000gn/T/ipykernel_1104/1129587255.py:5: SettingWithCopyWarning: \n",
      "A value is trying to be set on a copy of a slice from a DataFrame.\n",
      "Try using .loc[row_indexer,col_indexer] = value instead\n",
      "\n",
      "See the caveats in the documentation: https://pandas.pydata.org/pandas-docs/stable/user_guide/indexing.html#returning-a-view-versus-a-copy\n",
      "  c_df3['top_PERFORMANCE'] = l.fit_transform(c_df3['top_PERFORMANCE'])\n"
     ]
    }
   ],
   "source": [
    "l = LabelEncoder()\n",
    "\n",
    "c_df1['top_PERFORMANCE'] = l.fit_transform(c_df1['top_PERFORMANCE']) \n",
    "c_df2['top_PERFORMANCE'] = l.fit_transform(c_df2['top_PERFORMANCE']) \n",
    "c_df3['top_PERFORMANCE'] = l.fit_transform(c_df3['top_PERFORMANCE']) "
   ]
  },
  {
   "cell_type": "code",
   "execution_count": 31,
   "metadata": {},
   "outputs": [],
   "source": [
    "c_df1.to_excel('data/c_df1.xlsx')\n",
    "c_df2.to_excel('data/c_df2.xlsx')\n",
    "c_df3.to_excel('data/c_df3.xlsx')"
   ]
  }
 ],
 "metadata": {
  "kernelspec": {
   "display_name": "MLAI",
   "language": "python",
   "name": "python3"
  },
  "language_info": {
   "codemirror_mode": {
    "name": "ipython",
    "version": 3
   },
   "file_extension": ".py",
   "mimetype": "text/x-python",
   "name": "python",
   "nbconvert_exporter": "python",
   "pygments_lexer": "ipython3",
   "version": "3.9.13 (main, Aug 25 2022, 18:29:29) \n[Clang 12.0.0 ]"
  },
  "orig_nbformat": 4,
  "vscode": {
   "interpreter": {
    "hash": "4699676ad9e91dce900d864810a37d13de9484dc0abd06d687ad0faa92f4f608"
   }
  }
 },
 "nbformat": 4,
 "nbformat_minor": 2
}
